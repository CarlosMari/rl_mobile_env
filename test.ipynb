{
 "cells": [
  {
   "cell_type": "code",
   "execution_count": 11,
   "metadata": {},
   "outputs": [
    {
     "data": {
      "text/plain": [
       "15"
      ]
     },
     "execution_count": 11,
     "metadata": {},
     "output_type": "execute_result"
    }
   ],
   "source": [
    "env.NUM_USERS"
   ]
  },
  {
   "cell_type": "markdown",
   "metadata": {},
   "source": []
  },
  {
   "cell_type": "code",
   "execution_count": 4,
   "metadata": {},
   "outputs": [
    {
     "name": "stdout",
     "output_type": "stream",
     "text": [
      "tensor([[1., 1.],\n",
      "        [1., 1.]])\n",
      "tensor([[-1., -1.],\n",
      "        [-1., -1.]])\n"
     ]
    }
   ],
   "source": [
    "import torch\n",
    "\n",
    "x = torch.ones((2,2))\n",
    "print(x)\n",
    "print(-x)"
   ]
  },
  {
   "cell_type": "code",
   "execution_count": 7,
   "metadata": {},
   "outputs": [
    {
     "name": "stdout",
     "output_type": "stream",
     "text": [
      "===== classic_control =====\n",
      "Acrobot-v1             CartPole-v0            CartPole-v1\n",
      "MountainCar-v0         MountainCarContinuous-v0 Pendulum-v1\n",
      "===== phys2d =====\n",
      "phys2d/CartPole-v0     phys2d/CartPole-v1     phys2d/Pendulum-v0\n",
      "===== box2d =====\n",
      "BipedalWalker-v3       BipedalWalkerHardcore-v3 CarRacing-v2\n",
      "LunarLander-v2         LunarLanderContinuous-v2\n",
      "===== toy_text =====\n",
      "Blackjack-v1           CliffWalking-v0        FrozenLake-v1\n",
      "FrozenLake8x8-v1       Taxi-v3\n",
      "===== tabular =====\n",
      "tabular/Blackjack-v0   tabular/CliffWalking-v0\n",
      "===== mujoco =====\n",
      "Ant-v2                 Ant-v3                 Ant-v4\n",
      "HalfCheetah-v2         HalfCheetah-v3         HalfCheetah-v4\n",
      "Hopper-v2              Hopper-v3              Hopper-v4\n",
      "Humanoid-v2            Humanoid-v3            Humanoid-v4\n",
      "HumanoidStandup-v2     HumanoidStandup-v4     InvertedDoublePendulum-v2\n",
      "InvertedDoublePendulum-v4 InvertedPendulum-v2    InvertedPendulum-v4\n",
      "Pusher-v2              Pusher-v4              Reacher-v2\n",
      "Reacher-v4             Swimmer-v2             Swimmer-v3\n",
      "Swimmer-v4             Walker2d-v2            Walker2d-v3\n",
      "Walker2d-v4\n",
      "===== None =====\n",
      "GymV21Environment-v0   GymV26Environment-v0\n",
      "===== small =====\n",
      "mobile-small-central-v0 mobile-small-ma-v0\n",
      "===== medium =====\n",
      "mobile-medium-central-v0 mobile-medium-ma-v0\n",
      "===== large =====\n",
      "mobile-large-central-v0 mobile-large-ma-v0\n"
     ]
    }
   ],
   "source": [
    "gym.pprint_registry()"
   ]
  },
  {
   "cell_type": "code",
   "execution_count": 21,
   "metadata": {},
   "outputs": [
    {
     "name": "stdout",
     "output_type": "stream",
     "text": [
      "[[0.6775444  0.28579552 0.65127206 0.4821777  0.21202398]\n",
      " [0.08640334 0.22247023 0.56739622 0.01566263 0.13718705]]\n",
      "[0.21202398 0.13718705]\n"
     ]
    },
    {
     "ename": "",
     "evalue": "",
     "output_type": "error",
     "traceback": [
      "\u001b[1;31mThe Kernel crashed while executing code in the current cell or a previous cell. \n",
      "\u001b[1;31mPlease review the code in the cell(s) to identify a possible cause of the failure. \n",
      "\u001b[1;31mClick <a href='https://aka.ms/vscodeJupyterKernelCrash'>here</a> for more info. \n",
      "\u001b[1;31mView Jupyter <a href='command:jupyter.viewOutput'>log</a> for further details."
     ]
    }
   ],
   "source": [
    "r1 = np.random.random((2,5))\n",
    "print(r1)\n",
    "\n",
    "print(r1[:,4:].sum(axis=1))"
   ]
  },
  {
   "cell_type": "code",
   "execution_count": 2,
   "metadata": {},
   "outputs": [],
   "source": [
    "# (0,1,2,2,1)\n",
    "# ((0,0))\n",
    "from collections import OrderedDict\n",
    "actions = [0,1,2,2,1]\n",
    "tupled = OrderedDict([(i, actions[i]) for i in range(len(actions))])\n"
   ]
  },
  {
   "cell_type": "code",
   "execution_count": 3,
   "metadata": {},
   "outputs": [
    {
     "data": {
      "text/plain": [
       "(5, 13)"
      ]
     },
     "execution_count": 3,
     "metadata": {},
     "output_type": "execute_result"
    }
   ],
   "source": [
    "obs = env.observation_space.sample()\n",
    "\n",
    "parsered_obs = np.array([array for array in obs.values()])\n",
    "parsered_obs.shape"
   ]
  },
  {
   "cell_type": "code",
   "execution_count": 4,
   "metadata": {},
   "outputs": [
    {
     "name": "stdout",
     "output_type": "stream",
     "text": [
      "{0: array([ 0.        ,  0.        ,  0.        ,  1.        ,  0.2516919 ,\n",
      "        0.56135505, -1.        , -1.        , -1.        , -1.        ,\n",
      "        0.        ,  0.        ,  0.        ], dtype=float32), 1: array([ 0.        ,  0.        ,  0.        ,  0.11989262,  0.1122832 ,\n",
      "        1.        , -1.        , -1.        , -1.        , -1.        ,\n",
      "        0.        ,  0.        ,  0.        ], dtype=float32), 2: array([ 0.        ,  1.        ,  0.        ,  0.4710008 ,  0.44577658,\n",
      "        1.        , -0.14339764, -0.2793635 , -0.14339764, -1.        ,\n",
      "        0.5       ,  0.5       ,  0.        ], dtype=float32), 3: array([ 0.        ,  0.        ,  0.        ,  0.03805785,  0.04028227,\n",
      "        1.        , -1.        , -1.        , -1.        , -1.        ,\n",
      "        0.        ,  0.        ,  0.        ], dtype=float32), 4: array([ 1.        ,  0.        ,  0.        ,  1.        ,  0.17299446,\n",
      "        0.3024028 , -0.2793635 , -0.2793635 , -1.        , -1.        ,\n",
      "        1.        ,  0.        ,  0.        ], dtype=float32)}\n"
     ]
    },
    {
     "name": "stderr",
     "output_type": "stream",
     "text": [
      "/Users/carlosmarinoguera/miniconda3/envs/rl_mobile_env/lib/python3.9/site-packages/gymnasium/utils/passive_env_checker.py:275: UserWarning: \u001b[33mWARN: The reward returned by `step()` must be a float, int, np.integer or np.floating, actual type: <class 'dict'>\u001b[0m\n",
      "  logger.warn(\n"
     ]
    },
    {
     "data": {
      "text/plain": [
       "'batched_obs = np.array([observations[key] for key in observations.keys()])\\nr = np.array([array for array in r.values()])\\nprint(r)'"
      ]
     },
     "execution_count": 4,
     "metadata": {},
     "output_type": "execute_result"
    }
   ],
   "source": [
    "import mobile_env \n",
    "import gymnasium as gym\n",
    "from stable_baselines3 import PPO\n",
    "from stable_baselines3.common.env_util import make_vec_env\n",
    "import numpy as np\n",
    "\n",
    "env = gym.make('mobile-small-ma-v0', render_mode='human')\n",
    "env.reset()\n",
    "observations, r, _, _, _ = env.step(tupled)\n",
    "\n",
    "\n",
    "print(observations)\n",
    "'''batched_obs = np.array([observations[key] for key in observations.keys()])\n",
    "r = np.array([array for array in r.values()])\n",
    "print(r)'''"
   ]
  },
  {
   "cell_type": "code",
   "execution_count": 26,
   "metadata": {},
   "outputs": [
    {
     "name": "stdout",
     "output_type": "stream",
     "text": [
      "1\n",
      "[1.         0.2516919  0.56135505]\n",
      "3\n",
      "[0.11989262 0.1122832  1.        ]\n",
      "3\n",
      "[0.4710008  0.44577658 1.        ]\n",
      "3\n",
      "[0.03805785 0.04028227 1.        ]\n",
      "1\n",
      "[1.         0.17299446 0.3024028 ]\n"
     ]
    }
   ],
   "source": [
    "actions = []\n",
    "for agent_id, obs in observations.items():\n",
    "    action = np.argmax(obs[3:6])\n",
    "    print(obs[3:6])\n",
    "    # If we are connected to the best bs we do nothing\n",
    "    if obs[action]:\n",
    "        actions.append(0)\n",
    "\n",
    "    # If connected to bs we disconnect\n",
    "    elif sum(obs[0:3]) > 0:\n",
    "            print('Disconnecting')\n",
    "            conn_bs = obs[0:3].index(1)\n",
    "            actions.append(conn_bs+1)\n",
    "            print(conn_bs + 1)\n",
    "    # If we are not connected we connect to the best bs\n",
    "    else:\n",
    "        actions.append(action + 1)\n",
    "        print(action+1)\n",
    "    \n"
   ]
  },
  {
   "cell_type": "code",
   "execution_count": 28,
   "metadata": {},
   "outputs": [
    {
     "name": "stdout",
     "output_type": "stream",
     "text": [
      "tensor([[0.2976, 0.0000, 0.0000, 0.0000],\n",
      "        [0.0000, 0.2284, 0.0000, 0.0000],\n",
      "        [0.1640, 0.0000, 0.0000, 0.0000],\n",
      "        [0.0000, 0.0000, 0.2608, 0.0000],\n",
      "        [0.0000, 0.0000, 0.0000, 0.2424]])\n",
      "tensor([[0.0124, 0.9512, 0.8537, 0.9174, 0.3247]])\n"
     ]
    },
    {
     "name": "stderr",
     "output_type": "stream",
     "text": [
      "/var/folders/q0/lzrls2551w3btk7nl0c8dknw0000gn/T/ipykernel_56681/1022769036.py:4: UserWarning: Implicit dimension choice for softmax has been deprecated. Change the call to include dim=X as an argument.\n",
      "  probabilities = F.softmax(torch.rand(5,4))\n"
     ]
    },
    {
     "data": {
      "text/plain": [
       "tensor([[0.0037, 0.2173, 0.1400, 0.2392, 0.0787]])"
      ]
     },
     "execution_count": 28,
     "metadata": {},
     "output_type": "execute_result"
    }
   ],
   "source": [
    "import torch \n",
    "import torch.nn.functional as F\n",
    "a = torch.tensor([0,1,0,2,3])\n",
    "probabilities = F.softmax(torch.rand(5,4))\n",
    "values = torch.rand(1,5)\n",
    "\n",
    "one_hot = F.one_hot(a)\n",
    "\n",
    "probs= one_hot * probabilities\n",
    "print(probs)\n",
    "sums = torch.sum(probs, dim=1)\n",
    "print(values)\n",
    "sums * values\n"
   ]
  },
  {
   "cell_type": "code",
   "execution_count": 19,
   "metadata": {},
   "outputs": [
    {
     "data": {
      "text/plain": [
       "Dict(0: Discrete(4), 1: Discrete(4), 2: Discrete(4), 3: Discrete(4), 4: Discrete(4))"
      ]
     },
     "execution_count": 19,
     "metadata": {},
     "output_type": "execute_result"
    }
   ],
   "source": [
    "env.action_space"
   ]
  },
  {
   "cell_type": "code",
   "execution_count": 20,
   "metadata": {},
   "outputs": [
    {
     "name": "stderr",
     "output_type": "stream",
     "text": [
      "/Users/carlosmarinoguera/miniconda3/envs/rl_mobile_env/lib/python3.9/site-packages/gymnasium/utils/passive_env_checker.py:335: UserWarning: \u001b[33mWARN: No render fps was declared in the environment (env.metadata['render_fps'] is None or not defined), rendering may occur at inconsistent fps.\u001b[0m\n",
      "  logger.warn(\n",
      "2024-04-24 10:44:56.083 python[54934:1452302] Inconsistent set of values to create NSBitmapImageRep\n"
     ]
    }
   ],
   "source": [
    "env.render()"
   ]
  },
  {
   "cell_type": "code",
   "execution_count": 11,
   "metadata": {},
   "outputs": [
    {
     "data": {
      "text/plain": [
       "tensor([0, 2, 0, 0, 1])"
      ]
     },
     "execution_count": 11,
     "metadata": {},
     "output_type": "execute_result"
    }
   ],
   "source": [
    "tensor = torch.tensor([[1, 0, 0, 0],\n",
    "        [0, 0, 1, 0],\n",
    "        [0.2365, 0.2600, 0.2292, 0.2743],\n",
    "        [0.2570, 0.2760, 0.2122, 0.2549],\n",
    "        [0.2342, 0.2347, 0.2492, 0.2819]])\n",
    "\n",
    "torch.distributions.Categorical(tensor).sample()"
   ]
  },
  {
   "cell_type": "code",
   "execution_count": 3,
   "metadata": {},
   "outputs": [
    {
     "data": {
      "text/plain": [
       "MultiDiscrete([4 4 4 4 4])"
      ]
     },
     "execution_count": 3,
     "metadata": {},
     "output_type": "execute_result"
    }
   ],
   "source": [
    "env.action_space"
   ]
  },
  {
   "cell_type": "code",
   "execution_count": 9,
   "metadata": {},
   "outputs": [
    {
     "data": {
      "text/plain": [
       "OrderedDict([(0,\n",
       "              array([ 0.8955473 , -0.10306899, -0.8207377 ,  0.71955466,  0.08019269,\n",
       "                      0.13806495, -0.9261017 ,  0.15187824,  0.7817163 , -0.16798289,\n",
       "                      0.6710511 ,  0.33811823,  0.52643144], dtype=float32)),\n",
       "             (1,\n",
       "              array([-0.20929642,  0.47161365,  0.8119165 , -0.2029094 ,  0.881791  ,\n",
       "                      0.552677  ,  0.7276691 ,  0.7032808 , -0.15544918, -0.40884727,\n",
       "                      0.02058269, -0.08884903, -0.8195469 ], dtype=float32)),\n",
       "             (2,\n",
       "              array([-0.27622098,  0.06261311,  0.8199006 ,  0.47824782,  0.48189917,\n",
       "                      0.05567513, -0.1164932 , -0.20234503, -0.06206719, -0.3990322 ,\n",
       "                     -0.9562528 ,  0.06643494, -0.49132898], dtype=float32)),\n",
       "             (3,\n",
       "              array([ 0.18196487,  0.1535525 , -0.5078211 , -0.713702  ,  0.96007085,\n",
       "                     -0.40530118, -0.18813589,  0.81908906,  0.5129964 ,  0.47318566,\n",
       "                      0.8767412 ,  0.7709498 , -0.7369802 ], dtype=float32)),\n",
       "             (4,\n",
       "              array([-0.52841717,  0.71777856, -0.6213819 , -0.51200575, -0.18942012,\n",
       "                      0.46265146,  0.3303151 , -0.3034711 ,  0.54645663, -0.61345613,\n",
       "                      0.33139417,  0.70852304,  0.03229507], dtype=float32))])"
      ]
     },
     "execution_count": 9,
     "metadata": {},
     "output_type": "execute_result"
    }
   ],
   "source": [
    "env.observation_space.sample()"
   ]
  },
  {
   "cell_type": "code",
   "execution_count": 43,
   "metadata": {},
   "outputs": [
    {
     "ename": "ImportError",
     "evalue": "cannot import name 'Rei' from 'reinforce' (/Users/carlosmarinoguera/Documents/class/UT/RL/PROJECT/reinforce.py)",
     "output_type": "error",
     "traceback": [
      "\u001b[0;31m---------------------------------------------------------------------------\u001b[0m",
      "\u001b[0;31mImportError\u001b[0m                               Traceback (most recent call last)",
      "Cell \u001b[0;32mIn[43], line 2\u001b[0m\n\u001b[1;32m      1\u001b[0m \u001b[38;5;28;01mfrom\u001b[39;00m \u001b[38;5;21;01mreinforce\u001b[39;00m \u001b[38;5;28;01mimport\u001b[39;00m PiApproximationWithNN\n\u001b[0;32m----> 2\u001b[0m \u001b[38;5;28;01mfrom\u001b[39;00m \u001b[38;5;21;01mreinforce\u001b[39;00m \u001b[38;5;28;01mimport\u001b[39;00m Rei\n\u001b[1;32m      4\u001b[0m actions_shape \u001b[38;5;241m=\u001b[39m (env\u001b[38;5;241m.\u001b[39mNUM_STATIONS\u001b[38;5;241m+\u001b[39m\u001b[38;5;241m1\u001b[39m, env\u001b[38;5;241m.\u001b[39mNUM_USERS)\n\u001b[1;32m      5\u001b[0m nn \u001b[38;5;241m=\u001b[39mPiApproximationWithNN(env\u001b[38;5;241m.\u001b[39mobservation_space\u001b[38;5;241m.\u001b[39msample()\u001b[38;5;241m.\u001b[39mshape, actions_shape, \u001b[38;5;241m0.1\u001b[39m)\n",
      "\u001b[0;31mImportError\u001b[0m: cannot import name 'Rei' from 'reinforce' (/Users/carlosmarinoguera/Documents/class/UT/RL/PROJECT/reinforce.py)"
     ]
    }
   ],
   "source": [
    "from reinforce import PiApproximationWithNN\n",
    "from reinforce import Rei\n",
    "\n",
    "actions_shape = (env.NUM_STATIONS+1, env.NUM_USERS)\n",
    "nn =PiApproximationWithNN(env.observation_space.sample().shape, actions_shape, 0.1)\n",
    "nn(env.observation_space)\n"
   ]
  },
  {
   "cell_type": "code",
   "execution_count": 14,
   "metadata": {},
   "outputs": [
    {
     "name": "stdout",
     "output_type": "stream",
     "text": [
      "[-0.79367965 -0.64000136 -0.17819194  0.56419516  0.42303452  0.9679094\n",
      " -0.53956735 -0.18181287 -0.32860035  0.23140877 -0.38320273  0.00650112\n",
      " -0.44249934  0.60337657  0.6381117   0.7247584  -0.7433741   0.984023\n",
      "  0.9157227  -0.4720127   0.758845   -0.5291964  -0.2974816  -0.7711328\n",
      " -0.75767756 -0.34733924  0.4271143   0.29427668 -0.05141254  0.9171868\n",
      " -0.79921454 -0.15337321  0.9400537  -0.9858751   0.9446637 ]\n"
     ]
    }
   ],
   "source": [
    "print(obs)"
   ]
  },
  {
   "cell_type": "code",
   "execution_count": 17,
   "metadata": {},
   "outputs": [
    {
     "name": "stdout",
     "output_type": "stream",
     "text": [
      "SNRS : [1.         0.02810937 0.01506933] \n",
      " action: 0\n",
      "SNRS : [0.03044292 1.         0.0137014 ] \n",
      " action: 1\n",
      "SNRS : [0.06937985 1.         0.9660871 ] \n",
      " action: 1\n",
      "SNRS : [1.         0.46188155 0.09939642] \n",
      " action: 0\n",
      "SNRS : [0.6148933  0.24630731 1.        ] \n",
      " action: 2\n"
     ]
    }
   ],
   "source": [
    "obs = env.observation_space.sample()\n",
    "env.reset()\n",
    "import numpy as np\n",
    "obs, _, _,_,_ = env.step(env.action_space.sample())\n",
    "obs_per_user = 2 * env.NUM_STATIONS + 1\n",
    "\n",
    "actions = []\n",
    "for ue in range(env.NUM_USERS):\n",
    "        offset = ue * obs_per_user\n",
    "        snrs = np.array(obs[offset+env.NUM_STATIONS:offset+2*env.NUM_STATIONS])\n",
    "        action = np.argmax(snrs)\n",
    "        actions.append(action)\n",
    "        print(f'SNRS : {snrs} \\n action: {action}')\n",
    "\n",
    "        "
   ]
  },
  {
   "cell_type": "code",
   "execution_count": 4,
   "metadata": {},
   "outputs": [
    {
     "name": "stdout",
     "output_type": "stream",
     "text": [
      "Using mps device\n"
     ]
    }
   ],
   "source": [
    "vec_env = make_vec_env('mobile-small-central-v0')\n",
    "\n",
    "model = PPO(\"MlpPolicy\", vec_env, verbose=1, device='mps')\n",
    "#model.learn(total_timesteps=1000000)"
   ]
  },
  {
   "cell_type": "code",
   "execution_count": 5,
   "metadata": {},
   "outputs": [],
   "source": [
    "import torch\n",
    "from stable_baselines3 import PPO\n",
    "model = PPO.load('ppo.pth')"
   ]
  },
  {
   "cell_type": "code",
   "execution_count": 6,
   "metadata": {},
   "outputs": [
    {
     "name": "stderr",
     "output_type": "stream",
     "text": [
      "/Users/carlosmarinoguera/miniconda3/envs/rl_mobile_env/lib/python3.9/site-packages/gymnasium/utils/passive_env_checker.py:335: UserWarning: \u001b[33mWARN: No render fps was declared in the environment (env.metadata['render_fps'] is None or not defined), rendering may occur at inconsistent fps.\u001b[0m\n",
      "  logger.warn(\n"
     ]
    }
   ],
   "source": [
    "\n",
    "done = False\n",
    "obs = vec_env.reset()\n",
    "reward = 0\n",
    "while not done:\n",
    "    action, _states = model.predict(obs)\n",
    "    obs, rewards, done, info = vec_env.step(action)\n",
    "    vec_env.render(\"human\")\n",
    "    reward += rewards\n",
    "    \n",
    "\n"
   ]
  },
  {
   "cell_type": "code",
   "execution_count": 7,
   "metadata": {},
   "outputs": [
    {
     "name": "stdout",
     "output_type": "stream",
     "text": [
      "[-33.874615]\n"
     ]
    }
   ],
   "source": [
    "print(reward)"
   ]
  },
  {
   "cell_type": "code",
   "execution_count": 2,
   "metadata": {},
   "outputs": [
    {
     "name": "stdout",
     "output_type": "stream",
     "text": [
      "5\n",
      "4\n"
     ]
    }
   ],
   "source": [
    "print(len(env.action_space))\n",
    "print(env.action_space[0].n)"
   ]
  },
  {
   "cell_type": "code",
   "execution_count": 2,
   "metadata": {},
   "outputs": [
    {
     "name": "stderr",
     "output_type": "stream",
     "text": [
      "/Users/carlosmarinoguera/miniconda3/envs/rl_mobile_env/lib/python3.9/site-packages/gymnasium/core.py:311: UserWarning: \u001b[33mWARN: env.NUM_STATIONS to get variables from other wrappers is deprecated and will be removed in v1.0, to get this variable you can do `env.unwrapped.NUM_STATIONS` for environment variables or `env.get_wrapper_attr('NUM_STATIONS')` that will search the reminding wrappers.\u001b[0m\n",
      "  logger.warn(\n",
      "/Users/carlosmarinoguera/miniconda3/envs/rl_mobile_env/lib/python3.9/site-packages/gymnasium/core.py:311: UserWarning: \u001b[33mWARN: env.NUM_USERS to get variables from other wrappers is deprecated and will be removed in v1.0, to get this variable you can do `env.unwrapped.NUM_USERS` for environment variables or `env.get_wrapper_attr('NUM_USERS')` that will search the reminding wrappers.\u001b[0m\n",
      "  logger.warn(\n"
     ]
    },
    {
     "name": "stdout",
     "output_type": "stream",
     "text": [
      "3:5\n"
     ]
    },
    {
     "ename": "RuntimeError",
     "evalue": "shape '[3, 5]' is invalid for input of size 3",
     "output_type": "error",
     "traceback": [
      "\u001b[0;31m---------------------------------------------------------------------------\u001b[0m",
      "\u001b[0;31mRuntimeError\u001b[0m                              Traceback (most recent call last)",
      "Cell \u001b[0;32mIn[2], line 6\u001b[0m\n\u001b[1;32m      4\u001b[0m actions_shape \u001b[38;5;241m=\u001b[39m (env\u001b[38;5;241m.\u001b[39mNUM_STATIONS, env\u001b[38;5;241m.\u001b[39mNUM_USERS)\n\u001b[1;32m      5\u001b[0m nn \u001b[38;5;241m=\u001b[39mPiApproximationWithNN(env\u001b[38;5;241m.\u001b[39mobservation_space\u001b[38;5;241m.\u001b[39msample()\u001b[38;5;241m.\u001b[39mshape, actions_shape, \u001b[38;5;241m0.1\u001b[39m)\n\u001b[0;32m----> 6\u001b[0m \u001b[43mnn\u001b[49m\u001b[43m(\u001b[49m\u001b[43menv\u001b[49m\u001b[38;5;241;43m.\u001b[39;49m\u001b[43mobservation_space\u001b[49m\u001b[38;5;241;43m.\u001b[39;49m\u001b[43msample\u001b[49m\u001b[43m(\u001b[49m\u001b[43m)\u001b[49m\u001b[43m)\u001b[49m\n",
      "File \u001b[0;32m~/miniconda3/envs/rl_mobile_env/lib/python3.9/site-packages/torch/nn/modules/module.py:1511\u001b[0m, in \u001b[0;36mModule._wrapped_call_impl\u001b[0;34m(self, *args, **kwargs)\u001b[0m\n\u001b[1;32m   1509\u001b[0m     \u001b[38;5;28;01mreturn\u001b[39;00m \u001b[38;5;28mself\u001b[39m\u001b[38;5;241m.\u001b[39m_compiled_call_impl(\u001b[38;5;241m*\u001b[39margs, \u001b[38;5;241m*\u001b[39m\u001b[38;5;241m*\u001b[39mkwargs)  \u001b[38;5;66;03m# type: ignore[misc]\u001b[39;00m\n\u001b[1;32m   1510\u001b[0m \u001b[38;5;28;01melse\u001b[39;00m:\n\u001b[0;32m-> 1511\u001b[0m     \u001b[38;5;28;01mreturn\u001b[39;00m \u001b[38;5;28;43mself\u001b[39;49m\u001b[38;5;241;43m.\u001b[39;49m\u001b[43m_call_impl\u001b[49m\u001b[43m(\u001b[49m\u001b[38;5;241;43m*\u001b[39;49m\u001b[43margs\u001b[49m\u001b[43m,\u001b[49m\u001b[43m \u001b[49m\u001b[38;5;241;43m*\u001b[39;49m\u001b[38;5;241;43m*\u001b[39;49m\u001b[43mkwargs\u001b[49m\u001b[43m)\u001b[49m\n",
      "File \u001b[0;32m~/miniconda3/envs/rl_mobile_env/lib/python3.9/site-packages/torch/nn/modules/module.py:1520\u001b[0m, in \u001b[0;36mModule._call_impl\u001b[0;34m(self, *args, **kwargs)\u001b[0m\n\u001b[1;32m   1515\u001b[0m \u001b[38;5;66;03m# If we don't have any hooks, we want to skip the rest of the logic in\u001b[39;00m\n\u001b[1;32m   1516\u001b[0m \u001b[38;5;66;03m# this function, and just call forward.\u001b[39;00m\n\u001b[1;32m   1517\u001b[0m \u001b[38;5;28;01mif\u001b[39;00m \u001b[38;5;129;01mnot\u001b[39;00m (\u001b[38;5;28mself\u001b[39m\u001b[38;5;241m.\u001b[39m_backward_hooks \u001b[38;5;129;01mor\u001b[39;00m \u001b[38;5;28mself\u001b[39m\u001b[38;5;241m.\u001b[39m_backward_pre_hooks \u001b[38;5;129;01mor\u001b[39;00m \u001b[38;5;28mself\u001b[39m\u001b[38;5;241m.\u001b[39m_forward_hooks \u001b[38;5;129;01mor\u001b[39;00m \u001b[38;5;28mself\u001b[39m\u001b[38;5;241m.\u001b[39m_forward_pre_hooks\n\u001b[1;32m   1518\u001b[0m         \u001b[38;5;129;01mor\u001b[39;00m _global_backward_pre_hooks \u001b[38;5;129;01mor\u001b[39;00m _global_backward_hooks\n\u001b[1;32m   1519\u001b[0m         \u001b[38;5;129;01mor\u001b[39;00m _global_forward_hooks \u001b[38;5;129;01mor\u001b[39;00m _global_forward_pre_hooks):\n\u001b[0;32m-> 1520\u001b[0m     \u001b[38;5;28;01mreturn\u001b[39;00m \u001b[43mforward_call\u001b[49m\u001b[43m(\u001b[49m\u001b[38;5;241;43m*\u001b[39;49m\u001b[43margs\u001b[49m\u001b[43m,\u001b[49m\u001b[43m \u001b[49m\u001b[38;5;241;43m*\u001b[39;49m\u001b[38;5;241;43m*\u001b[39;49m\u001b[43mkwargs\u001b[49m\u001b[43m)\u001b[49m\n\u001b[1;32m   1522\u001b[0m \u001b[38;5;28;01mtry\u001b[39;00m:\n\u001b[1;32m   1523\u001b[0m     result \u001b[38;5;241m=\u001b[39m \u001b[38;5;28;01mNone\u001b[39;00m\n",
      "File \u001b[0;32m~/Documents/class/UT/RL/PROJECT/reinforce.py:44\u001b[0m, in \u001b[0;36mPiApproximationWithNN.forward\u001b[0;34m(self, states, return_prob)\u001b[0m\n\u001b[1;32m     42\u001b[0m out \u001b[38;5;241m=\u001b[39m \u001b[38;5;28mself\u001b[39m\u001b[38;5;241m.\u001b[39mmodel(states)\n\u001b[1;32m     43\u001b[0m \u001b[38;5;28mprint\u001b[39m(\u001b[38;5;124mf\u001b[39m\u001b[38;5;124m'\u001b[39m\u001b[38;5;132;01m{\u001b[39;00m\u001b[38;5;28mself\u001b[39m\u001b[38;5;241m.\u001b[39maction_space[\u001b[38;5;241m0\u001b[39m]\u001b[38;5;132;01m}\u001b[39;00m\u001b[38;5;124m:\u001b[39m\u001b[38;5;132;01m{\u001b[39;00m\u001b[38;5;28mself\u001b[39m\u001b[38;5;241m.\u001b[39maction_space[\u001b[38;5;241m1\u001b[39m]\u001b[38;5;132;01m}\u001b[39;00m\u001b[38;5;124m'\u001b[39m)\n\u001b[0;32m---> 44\u001b[0m \u001b[43mout\u001b[49m\u001b[38;5;241;43m.\u001b[39;49m\u001b[43mreshape\u001b[49m\u001b[43m(\u001b[49m\u001b[38;5;28;43mself\u001b[39;49m\u001b[38;5;241;43m.\u001b[39;49m\u001b[43maction_space\u001b[49m\u001b[43m[\u001b[49m\u001b[38;5;241;43m0\u001b[39;49m\u001b[43m]\u001b[49m\u001b[43m,\u001b[49m\u001b[43m \u001b[49m\u001b[38;5;28;43mself\u001b[39;49m\u001b[38;5;241;43m.\u001b[39;49m\u001b[43maction_space\u001b[49m\u001b[43m[\u001b[49m\u001b[38;5;241;43m1\u001b[39;49m\u001b[43m]\u001b[49m\u001b[43m)\u001b[49m\n\u001b[1;32m     45\u001b[0m out \u001b[38;5;241m=\u001b[39m \u001b[38;5;28mself\u001b[39m\u001b[38;5;241m.\u001b[39msftmax(out)\n\u001b[1;32m     46\u001b[0m \u001b[38;5;28mprint\u001b[39m(out)\n",
      "\u001b[0;31mRuntimeError\u001b[0m: shape '[3, 5]' is invalid for input of size 3"
     ]
    }
   ],
   "source": []
  }
 ],
 "metadata": {
  "kernelspec": {
   "display_name": "rl_mobile_env",
   "language": "python",
   "name": "python3"
  },
  "language_info": {
   "codemirror_mode": {
    "name": "ipython",
    "version": 3
   },
   "file_extension": ".py",
   "mimetype": "text/x-python",
   "name": "python",
   "nbconvert_exporter": "python",
   "pygments_lexer": "ipython3",
   "version": "3.9.19"
  }
 },
 "nbformat": 4,
 "nbformat_minor": 2
}
